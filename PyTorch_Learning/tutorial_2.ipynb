{
 "cells": [
  {
   "metadata": {},
   "cell_type": "markdown",
   "source": [
    "# <center style=\"font-family: consolas; font-size: 32px; font-weight: bold;\">PyTorch</center>\n",
    "<p><center style=\"color:#949494; font-family: consolas; font-size: 20px;\">https://pytorch.org/</center></p>\n",
    "\n",
    "***\n",
    "\n",
    "# <center style=\"font-family: consolas; font-size: 32px; font-weight: bold;\">B. Neural Network</center>"
   ],
   "id": "2b960aa31165f52a"
  },
  {
   "metadata": {},
   "cell_type": "markdown",
   "source": "<font face='consolas' size=3 color=#f8000b>1. Neure</font>",
   "id": "491c8ddae3f329c9"
  },
  {
   "metadata": {
    "collapsed": true,
    "ExecuteTime": {
     "end_time": "2025-02-12T13:35:46.328525Z",
     "start_time": "2025-02-12T13:35:44.870936Z"
    }
   },
   "cell_type": "code",
   "source": [
    "import torch\n",
    "import torch.nn as nn\n",
    "\n",
    "class Neuron(nn.Module):\n",
    "    def __init__(self, input_size):\n",
    "        super(Neuron, self).__init__()\n",
    "        self.weights = nn.Parameter(torch.randn(input_size))\n",
    "        self.bias = nn.Parameter(torch.randn(1))\n",
    "\n",
    "    def forward(self, inputs):\n",
    "        weighted_sum = torch.sum(self.weights * inputs) + self.bias\n",
    "        output = torch.sigmoid(weighted_sum)\n",
    "        return output\n",
    "\n",
    "\n",
    "neuron = Neuron(3)\n",
    "inputs = torch.tensor([0.5, -0.3, 0.1])\n",
    "output = neuron(inputs)\n",
    "print(output)"
   ],
   "id": "initial_id",
   "outputs": [
    {
     "name": "stdout",
     "output_type": "stream",
     "text": [
      "tensor([0.4781], grad_fn=<SigmoidBackward0>)\n"
     ]
    }
   ],
   "execution_count": 1
  },
  {
   "metadata": {},
   "cell_type": "markdown",
   "source": "<font face='consolas' size=3 color=#f8000b>2. Neural Network</font>",
   "id": "3836e8c9ccf63106"
  },
  {
   "metadata": {
    "ExecuteTime": {
     "end_time": "2025-02-12T13:40:25.395399Z",
     "start_time": "2025-02-12T13:40:25.388680Z"
    }
   },
   "cell_type": "code",
   "source": [
    "class NeuralNetwork(nn.Module):\n",
    "    def __init__(self, input_size, hidden_size, output_size):\n",
    "        super(NeuralNetwork, self).__init__()\n",
    "        self.fc1 = nn.Linear(input_size, hidden_size)\n",
    "        self.fc2 = nn.Linear(hidden_size, output_size)\n",
    "\n",
    "    def forward(self, inputs):\n",
    "        hidden = torch.relu(self.fc1(inputs))\n",
    "        output = torch.sigmoid(self.fc2(hidden))\n",
    "        return output\n",
    "\n",
    "net = NeuralNetwork(2, 3, 1)\n",
    "inputs = torch.tensor([0.5, -0.3])\n",
    "\n",
    "output = net(inputs)\n",
    "print(output)"
   ],
   "id": "84c210febc7a5c8a",
   "outputs": [
    {
     "name": "stdout",
     "output_type": "stream",
     "text": [
      "tensor([0.3175], grad_fn=<SigmoidBackward0>)\n"
     ]
    }
   ],
   "execution_count": 2
  },
  {
   "metadata": {},
   "cell_type": "markdown",
   "source": "<font face='consolas' size=3 color=#f8000b>3. Loss Function</font>\n",
   "id": "36399eed053e05dc"
  },
  {
   "metadata": {},
   "cell_type": "code",
   "outputs": [],
   "execution_count": null,
   "source": [
    "predictions = torch.tensor([0.9, 0.2, 0.1])\n",
    "labels = torch.tensor([1.0, 0.0, 0.0])\n",
    "\n",
    "loss_function = nn.MSELoss()\n",
    "loss = loss_function(predictions, labels)\n",
    "print(loss)"
   ],
   "id": "62a0f7ecb3f04df9"
  },
  {
   "metadata": {},
   "cell_type": "markdown",
   "source": "<font face='consolas' size=3 color=#f8000b>4. Optimizer</font>",
   "id": "97cedf2afb704612"
  },
  {
   "metadata": {
    "ExecuteTime": {
     "end_time": "2025-02-12T13:43:27.730735Z",
     "start_time": "2025-02-12T13:43:27.726070Z"
    }
   },
   "cell_type": "code",
   "outputs": [
    {
     "name": "stdout",
     "output_type": "stream",
     "text": [
      "tensor(0.3524, grad_fn=<MseLossBackward0>)\n"
     ]
    }
   ],
   "execution_count": 4,
   "source": [
    "import torch\n",
    "net = NeuralNetwork(2, 3, 1)\n",
    "loss_function = nn.MSELoss()\n",
    "\n",
    "optimizer = torch.optim.Adam(net.parameters(), lr=0.01)\n",
    "\n",
    "# data\n",
    "inputs = torch.tensor([0.5, -0.3])\n",
    "labels = torch.tensor([1.0])\n",
    "\n",
    "# forward\n",
    "outputs = net(inputs)\n",
    "loss = loss_function(outputs, labels)\n",
    "\n",
    "# bp\n",
    "optimizer.zero_grad()\n",
    "loss.backward()\n",
    "optimizer.step()\n",
    "\n",
    "print(loss)\n"
   ],
   "id": "479f2f85eef70d6"
  }
 ],
 "metadata": {
  "kernelspec": {
   "display_name": "Python 3",
   "language": "python",
   "name": "python3"
  },
  "language_info": {
   "codemirror_mode": {
    "name": "ipython",
    "version": 2
   },
   "file_extension": ".py",
   "mimetype": "text/x-python",
   "name": "python",
   "nbconvert_exporter": "python",
   "pygments_lexer": "ipython2",
   "version": "2.7.6"
  }
 },
 "nbformat": 4,
 "nbformat_minor": 5
}
