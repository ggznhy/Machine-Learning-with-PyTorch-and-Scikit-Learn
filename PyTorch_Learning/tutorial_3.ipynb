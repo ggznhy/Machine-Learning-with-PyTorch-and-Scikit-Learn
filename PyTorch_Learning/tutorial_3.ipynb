{
 "cells": [
  {
   "metadata": {},
   "cell_type": "markdown",
   "source": [
    "# <center style=\"font-family: consolas; font-size: 32px; font-weight: bold;\">PyTorch</center>\n",
    "<p><center style=\"color:#949494; font-family: consolas; font-size: 20px;\">https://pytorch.org/</center></p>\n",
    "\n",
    "***\n",
    "\n",
    "# <center style=\"font-family: consolas; font-size: 32px; font-weight: bold;\">C. Layers</center>"
   ],
   "id": "797a243947a6c58d"
  },
  {
   "metadata": {
    "collapsed": true,
    "ExecuteTime": {
     "end_time": "2025-02-12T13:52:10.262586Z",
     "start_time": "2025-02-12T13:52:08.887935Z"
    }
   },
   "cell_type": "code",
   "source": [
    "import torch\n",
    "import torch.nn as nn\n"
   ],
   "id": "initial_id",
   "outputs": [],
   "execution_count": 2
  },
  {
   "metadata": {},
   "cell_type": "markdown",
   "source": "<font face='consolas' size=3 color=#f8000b>1. Fully Connected Layer</font>",
   "id": "68fb6f8009579ab3"
  },
  {
   "metadata": {
    "ExecuteTime": {
     "end_time": "2025-02-12T13:52:11.751865Z",
     "start_time": "2025-02-12T13:52:11.745740Z"
    }
   },
   "cell_type": "code",
   "source": [
    "input_size = 784\n",
    "output_size = 10\n",
    "\n",
    "fc_layer = nn.Linear(input_size, output_size)\n",
    "\n",
    "print(\"weights：\", fc_layer.weight)\n",
    "print(\"bias：\", fc_layer.bias)"
   ],
   "id": "679db7147c4f1f05",
   "outputs": [
    {
     "name": "stdout",
     "output_type": "stream",
     "text": [
      "weights： Parameter containing:\n",
      "tensor([[ 0.0351, -0.0031, -0.0106,  ...,  0.0210,  0.0211,  0.0217],\n",
      "        [ 0.0286, -0.0296,  0.0060,  ...,  0.0237, -0.0024,  0.0078],\n",
      "        [-0.0282,  0.0128,  0.0226,  ...,  0.0155,  0.0220, -0.0149],\n",
      "        ...,\n",
      "        [ 0.0072,  0.0119,  0.0106,  ..., -0.0233,  0.0131,  0.0091],\n",
      "        [-0.0082, -0.0302,  0.0009,  ...,  0.0134, -0.0157, -0.0118],\n",
      "        [ 0.0345, -0.0200, -0.0318,  ..., -0.0298,  0.0112,  0.0042]],\n",
      "       requires_grad=True)\n",
      "bias： Parameter containing:\n",
      "tensor([ 0.0166,  0.0282, -0.0068, -0.0259, -0.0194, -0.0298, -0.0333, -0.0165,\n",
      "         0.0142,  0.0091], requires_grad=True)\n"
     ]
    }
   ],
   "execution_count": 3
  },
  {
   "metadata": {},
   "cell_type": "markdown",
   "source": "<font face='consolas' size=3 color=#f8000b>2. Convolutional Layer</font>",
   "id": "986709e1b77fda09"
  },
  {
   "metadata": {},
   "cell_type": "code",
   "outputs": [],
   "execution_count": null,
   "source": [
    "in_channels = 3\n",
    "out_channels = 16\n",
    "kernel_size = 3\n",
    "\n",
    "conv_layer = nn.Conv2d(in_channels, out_channels, kernel_size)\n",
    "\n",
    "print(\"weights：\", conv_layer.weight)\n",
    "print(\"bias：\", conv_layer.bias)"
   ],
   "id": "deec2c4e1545f2b3"
  },
  {
   "metadata": {},
   "cell_type": "markdown",
   "source": "<font face='consolas' size=3 color=#f8000b>3. Pooling Layer</font>",
   "id": "56138e2c3e6ef893"
  },
  {
   "metadata": {},
   "cell_type": "code",
   "outputs": [],
   "execution_count": null,
   "source": [
    "kernel_size = 2\n",
    "stride = 2\n",
    "\n",
    "pool_layer = nn.MaxPool2d(kernel_size, stride)\n",
    "\n",
    "print(\"池化区域大小：\", pool_layer.kernel_size)\n",
    "print(\"步幅：\", pool_layer.stride)"
   ],
   "id": "4a4d368c542ce64e"
  },
  {
   "metadata": {},
   "cell_type": "markdown",
   "source": "<font face='consolas' size=3 color=#f8000b>4. Recurrent Neural Network Layer</font>",
   "id": "db288ffb67d148f1"
  },
  {
   "metadata": {},
   "cell_type": "code",
   "outputs": [],
   "execution_count": null,
   "source": [
    "input_size = 10\n",
    "hidden_size = 20\n",
    "num_layers = 2\n",
    "\n",
    "rnn_layer = nn.RNN(input_size, hidden_size, num_layers)\n",
    "\n",
    "print(\"输入特征维度：\", rnn_layer.input_size)\n",
    "print(\"隐藏状态维度：\", rnn_layer.hidden_size)\n",
    "print(\"层数：\", rnn_layer.num_layers)"
   ],
   "id": "29e666307abc7a41"
  },
  {
   "metadata": {},
   "cell_type": "markdown",
   "source": "<font face='consolas' size=3 color=#f8000b>5. Transpose Convolutional Layer</font>",
   "id": "ed372a07122e640e"
  },
  {
   "metadata": {},
   "cell_type": "code",
   "outputs": [],
   "execution_count": null,
   "source": [
    "in_channels  = 3\n",
    "out_channels = 16\n",
    "kernel_size  = 3\n",
    "\n",
    "transconv_layer = nn.ConvTranspose2d(in_channels, out_channels, kernel_size)\n",
    "\n",
    "print(\"权重：\", transconv_layer.weight)\n",
    "print(\"偏置项：\", transconv_layer.bias)"
   ],
   "id": "90c236be305a4c7c"
  },
  {
   "metadata": {},
   "cell_type": "markdown",
   "source": "<font face='consolas' size=3 color=#f8000b>6. Normalization Layer</font>",
   "id": "1fbac2380713f150"
  },
  {
   "metadata": {},
   "cell_type": "code",
   "outputs": [],
   "execution_count": null,
   "source": [
    "num_features = 16\n",
    "\n",
    "bn_layer = nn.BatchNorm2d(num_features)\n",
    "\n",
    "print(\"特征维度：\", bn_layer.num_features)\n",
    "print(\"均值：\", bn_layer.running_mean)\n",
    "print(\"方差：\", bn_layer.running_var)"
   ],
   "id": "77ffb3138a2faa0a"
  },
  {
   "metadata": {},
   "cell_type": "markdown",
   "source": "<font face='consolas' size=3 color=#f8000b>7. Activation Function Layer</font>",
   "id": "80d1d5c77c299db7"
  },
  {
   "metadata": {},
   "cell_type": "code",
   "outputs": [],
   "execution_count": null,
   "source": [
    "import torch\n",
    "import torch.nn as nn\n",
    "\n",
    "activation_layer = nn.ReLU()\n",
    "input_tensor = torch.randn(10)\n",
    "output_tensor = activation_layer(input_tensor)\n",
    "print(\"输出张量：\", output_tensor)"
   ],
   "id": "a1c4e260a02d1d95"
  },
  {
   "metadata": {},
   "cell_type": "markdown",
   "source": "<font face='consolas' size=3 color=#f8000b>8. Loss Function Layer</font>",
   "id": "8ea8e9b9ba4d2fd3"
  },
  {
   "metadata": {},
   "cell_type": "markdown",
   "source": "<font face='consolas' size=3 color=#f8000b>9. Optimizer Layer</font>",
   "id": "2eff1d40a04b971f"
  }
 ],
 "metadata": {
  "kernelspec": {
   "display_name": "Python 3",
   "language": "python",
   "name": "python3"
  },
  "language_info": {
   "codemirror_mode": {
    "name": "ipython",
    "version": 2
   },
   "file_extension": ".py",
   "mimetype": "text/x-python",
   "name": "python",
   "nbconvert_exporter": "python",
   "pygments_lexer": "ipython2",
   "version": "2.7.6"
  }
 },
 "nbformat": 4,
 "nbformat_minor": 5
}
