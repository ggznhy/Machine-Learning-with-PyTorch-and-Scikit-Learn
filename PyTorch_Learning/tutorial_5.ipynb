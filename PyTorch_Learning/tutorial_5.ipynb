{
 "cells": [
  {
   "metadata": {},
   "cell_type": "markdown",
   "source": [
    "# <center style=\"font-family: consolas; font-size: 32px; font-weight: bold;\">PyTorch</center>\n",
    "<p><center style=\"color:#949494; font-family: consolas; font-size: 20px;\">https://pytorch.org/</center></p>\n",
    "\n",
    "***\n",
    "\n",
    "# <center style=\"font-family: consolas; font-size: 32px; font-weight: bold;\">E. Model Train and Validation </center>"
   ],
   "id": "298f9a98963b7964"
  },
  {
   "metadata": {},
   "cell_type": "markdown",
   "source": "<font face='consolas' size=3 color=#f8000b>1. Model Train</font>",
   "id": "15bdd89ba33519bd"
  },
  {
   "metadata": {
    "collapsed": true
   },
   "cell_type": "code",
   "outputs": [],
   "execution_count": null,
   "source": [
    "import torch\n",
    "import torch.nn as nn\n",
    "import torch.optim as optim\n",
    "from torch.utils.data import DataLoader\n",
    "\n",
    "\n",
    "train_dataset = MyDataset(train_data)\n",
    "train_dataloader = DataLoader(train_dataset,\n",
    "                              batch_size=64,\n",
    "                              shuffle=True)\n",
    "model = MyModel()\n",
    "\n",
    "# 定义损失函数\n",
    "loss_fn = nn.CrossEntropyLoss()\n",
    "\n",
    "# 定义优化器\n",
    "optimizer = optim.SGD(model.parameters(), lr=0.01)\n",
    "\n",
    "# 模型训练\n",
    "for epoch in range(num_epochs):\n",
    "    for batch in train_dataloader:\n",
    "        inputs, labels = batch\n",
    "        outputs = model(inputs)\n",
    "        loss = loss_fn(outputs, labels)\n",
    "        loss.backward()\n",
    "        optimizer.step()\n",
    "        optimizer.zero_grad()\n",
    "\n",
    "\n",
    "# 准备验证数据\n",
    "val_dataset = MyDataset(val_data)\n",
    "val_dataloader = DataLoader(val_dataset, batch_size=64)\n",
    "\n",
    "# 模型验证\n",
    "model.eval()  # 设置模型为评估模式\n",
    "\n",
    "with torch.no_grad():  # 禁止梯度计算\n",
    "    for batch in val_dataloader:\n",
    "        inputs, labels = batch\n",
    "\n",
    "        # 前向传播\n",
    "        outputs = model(inputs)\n",
    "\n",
    "        # 在这里可以对模型输出进行后处理，如计算准确率、绘制预测结果等"
   ],
   "id": "initial_id"
  },
  {
   "metadata": {},
   "cell_type": "markdown",
   "source": "<font face='consolas' size=3 color=#f8000b>2. Model Validation</font>",
   "id": "43419d7b93e1b637"
  }
 ],
 "metadata": {
  "kernelspec": {
   "display_name": "Python 3",
   "language": "python",
   "name": "python3"
  },
  "language_info": {
   "codemirror_mode": {
    "name": "ipython",
    "version": 2
   },
   "file_extension": ".py",
   "mimetype": "text/x-python",
   "name": "python",
   "nbconvert_exporter": "python",
   "pygments_lexer": "ipython2",
   "version": "2.7.6"
  }
 },
 "nbformat": 4,
 "nbformat_minor": 5
}
