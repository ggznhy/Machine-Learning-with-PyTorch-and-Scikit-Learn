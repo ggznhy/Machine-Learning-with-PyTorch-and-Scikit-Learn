{
 "cells": [
  {
   "metadata": {},
   "cell_type": "markdown",
   "source": [
    "# <center style=\"font-family: consolas; font-size: 32px; font-weight: bold;\">PyTorch</center>\n",
    "<p><center style=\"color:#949494; font-family: consolas; font-size: 20px;\">https://pytorch.org/</center></p>\n",
    "\n",
    "***\n",
    "\n",
    "# <center style=\"font-family: consolas; font-size: 32px; font-weight: bold;\">A. Tensor</center>"
   ],
   "id": "3509da2ba91f9daf"
  },
  {
   "metadata": {},
   "cell_type": "markdown",
   "source": "<font face='consolas' size=3 color=#f8000b>1. Conception and Expression</font>",
   "id": "c5bc7136366ff810"
  },
  {
   "metadata": {
    "collapsed": true,
    "ExecuteTime": {
     "end_time": "2025-02-12T12:49:55.153432Z",
     "start_time": "2025-02-12T12:49:55.149491Z"
    }
   },
   "cell_type": "code",
   "source": [
    "# Tensor\n",
    "import torch\n",
    "import numpy as np\n",
    "\n",
    "print(torch.__version__)"
   ],
   "id": "initial_id",
   "outputs": [
    {
     "name": "stdout",
     "output_type": "stream",
     "text": [
      "2.4.1\n"
     ]
    }
   ],
   "execution_count": 18
  },
  {
   "metadata": {
    "ExecuteTime": {
     "end_time": "2025-02-12T11:09:41.779199Z",
     "start_time": "2025-02-12T11:09:41.775199Z"
    }
   },
   "cell_type": "code",
   "source": [
    "tensor = torch.tensor([1, 2, 3])\n",
    "\n",
    "print(tensor.shape)\n",
    "print(tensor)"
   ],
   "id": "a4adbf73119f2f31",
   "outputs": [
    {
     "name": "stdout",
     "output_type": "stream",
     "text": [
      "torch.Size([3])\n",
      "tensor([1, 2, 3])\n"
     ]
    }
   ],
   "execution_count": 8
  },
  {
   "metadata": {
    "ExecuteTime": {
     "end_time": "2025-02-12T12:49:00.081067Z",
     "start_time": "2025-02-12T12:49:00.076062Z"
    }
   },
   "cell_type": "code",
   "source": [
    "x = torch.empty(5, 3)\n",
    "print(x)\n",
    "\n",
    "zero_tensor = torch.zeros(2, 3)\n",
    "print(zero_tensor)\n",
    "\n",
    "ones_tensor = torch.ones(2, 3)\n",
    "print(ones_tensor)\n",
    "\n",
    "rand_tensor = torch.rand(3, 3)\n",
    "print(rand_tensor)"
   ],
   "id": "19da391ece0b352a",
   "outputs": [
    {
     "name": "stdout",
     "output_type": "stream",
     "text": [
      "tensor([[0., 0., 0.],\n",
      "        [0., 0., 0.]])\n",
      "tensor([[1., 1., 1.],\n",
      "        [1., 1., 1.]])\n",
      "tensor([[0.4123, 0.3504, 0.0647],\n",
      "        [0.9638, 0.6396, 0.2197],\n",
      "        [0.6285, 0.5899, 0.7605]])\n"
     ]
    }
   ],
   "execution_count": 17
  },
  {
   "metadata": {},
   "cell_type": "code",
   "outputs": [],
   "execution_count": null,
   "source": [
    "tensor1 = torch.tensor([1, 2, 3])\n",
    "tensor2 = torch.tensor([4, 5, 6])\n",
    "\n",
    "# sum\n",
    "result = tensor1 + tensor2\n",
    "print(result)  # output: tensor([5, 7, 9])\n",
    "\n",
    "# multiple\n",
    "result = tensor1 * tensor2\n",
    "print(result)  # output: tensor([4, 10, 18])"
   ],
   "id": "abef3e2c429d0b1e"
  },
  {
   "metadata": {
    "ExecuteTime": {
     "end_time": "2025-02-12T11:59:08.935067Z",
     "start_time": "2025-02-12T11:59:08.917049Z"
    }
   },
   "cell_type": "code",
   "source": [
    "tensor = torch.tensor([[1, 2, 3], [4, 5, 6], [7, 8, 9]])\n",
    "print(tensor[0, 0])\n",
    "print(tensor[:, 1])"
   ],
   "id": "db4ed0880c9a4b23",
   "outputs": [
    {
     "name": "stdout",
     "output_type": "stream",
     "text": [
      "tensor(1)\n",
      "tensor([2, 5, 8])\n"
     ]
    }
   ],
   "execution_count": 15
  },
  {
   "metadata": {},
   "cell_type": "code",
   "outputs": [],
   "execution_count": null,
   "source": [
    "tensor = tensor.to('cuda')\n",
    "tensor = tensor.to('cpu')"
   ],
   "id": "23728d38d174bf4b"
  },
  {
   "metadata": {},
   "cell_type": "markdown",
   "source": "<font face='consolas' size=3 color=#f8000b>2. Create Tensor</font>\n",
   "id": "f834d2ccbec785b"
  },
  {
   "metadata": {
    "ExecuteTime": {
     "end_time": "2025-02-12T12:58:30.916477Z",
     "start_time": "2025-02-12T12:58:30.911973Z"
    }
   },
   "cell_type": "code",
   "source": [
    "data_list = [1, 2, 3, 4, 5]\n",
    "y = torch.tensor(data_list)\n",
    "print(y)\n",
    "list = y.tolist()\n",
    "print(list)\n",
    "\n",
    "data_array = np.array([6, 7, 8, 9, 10])\n",
    "z = torch.tensor(data_array)\n",
    "print(z)\n",
    "array = z.numpy()\n",
    "print(array)"
   ],
   "id": "475e801e29dfdaf0",
   "outputs": [
    {
     "name": "stdout",
     "output_type": "stream",
     "text": [
      "tensor([1, 2, 3, 4, 5])\n",
      "[1, 2, 3, 4, 5]\n",
      "tensor([ 6,  7,  8,  9, 10], dtype=torch.int32)\n",
      "[ 6  7  8  9 10]\n"
     ]
    }
   ],
   "execution_count": 28
  },
  {
   "metadata": {
    "ExecuteTime": {
     "end_time": "2025-02-12T12:52:36.290973Z",
     "start_time": "2025-02-12T12:52:36.287973Z"
    }
   },
   "cell_type": "code",
   "source": [
    "xx = torch.tensor([1, 2, 3], dtype=torch.float32)\n",
    "print(xx.dtype)\n",
    "yy = torch.zeros(3, 3, dtype=torch.int32)\n",
    "print(yy.dtype)"
   ],
   "id": "175f2c8dfe2fcdd9",
   "outputs": [
    {
     "name": "stdout",
     "output_type": "stream",
     "text": [
      "torch.float32\n",
      "torch.int32\n"
     ]
    }
   ],
   "execution_count": 20
  },
  {
   "metadata": {},
   "cell_type": "markdown",
   "source": "<font face='consolas' size=3 color=#f8000b>3. Reshape</font>",
   "id": "2df13cd8b0ea7267"
  },
  {
   "metadata": {
    "ExecuteTime": {
     "end_time": "2025-02-12T12:53:11.702645Z",
     "start_time": "2025-02-12T12:53:11.698816Z"
    }
   },
   "cell_type": "code",
   "source": [
    "a = torch.tensor([1, 2, 3])\n",
    "b = 2\n",
    "c = a + b\n",
    "print(c)"
   ],
   "id": "280af52940737d68",
   "outputs": [
    {
     "name": "stdout",
     "output_type": "stream",
     "text": [
      "tensor([3, 4, 5])\n"
     ]
    }
   ],
   "execution_count": 21
  },
  {
   "metadata": {
    "ExecuteTime": {
     "end_time": "2025-02-12T12:56:34.273104Z",
     "start_time": "2025-02-12T12:56:34.269094Z"
    }
   },
   "cell_type": "code",
   "source": [
    "aa = torch.tensor([[1, 2, 3], [4, 5, 6]])\n",
    "print(aa)\n",
    "bb = aa.reshape(3, 2)\n",
    "print(bb)\n",
    "cc = aa.view((3, 2))\n",
    "print(cc)\n",
    "dd = aa.transpose(0, 1)\n",
    "print(dd)"
   ],
   "id": "9db36fb20226c5c6",
   "outputs": [
    {
     "name": "stdout",
     "output_type": "stream",
     "text": [
      "tensor([[1, 2, 3],\n",
      "        [4, 5, 6]])\n",
      "tensor([[1, 2],\n",
      "        [3, 4],\n",
      "        [5, 6]])\n",
      "tensor([[1, 2],\n",
      "        [3, 4],\n",
      "        [5, 6]])\n",
      "tensor([[1, 4],\n",
      "        [2, 5],\n",
      "        [3, 6]])\n"
     ]
    }
   ],
   "execution_count": 25
  },
  {
   "metadata": {},
   "cell_type": "markdown",
   "source": "<font face='consolas' size=3 color=#f8000b>4. Autograd 自动求导</font>",
   "id": "fb5ac3623bef6666"
  },
  {
   "metadata": {
    "ExecuteTime": {
     "end_time": "2025-02-12T13:09:42.559957Z",
     "start_time": "2025-02-12T13:09:42.554490Z"
    }
   },
   "cell_type": "code",
   "source": [
    "x = torch.tensor([2.0, 3.0], requires_grad=True)\n",
    "y = x**2 + 3*x + 1\n",
    "y.sum().backward()\n",
    "print(x.grad)"
   ],
   "id": "d1e1e212902e946b",
   "outputs": [
    {
     "name": "stdout",
     "output_type": "stream",
     "text": [
      "tensor([7., 9.])\n",
      "tensor(30., grad_fn=<SumBackward0>)\n"
     ]
    }
   ],
   "execution_count": 31
  },
  {
   "metadata": {},
   "cell_type": "markdown",
   "source": "<font face='consolas' size=3 color=#f8000b>5. Backpropagation, BP</font>",
   "id": "c6a0bcb6b71ebd9e"
  },
  {
   "metadata": {},
   "cell_type": "code",
   "outputs": [],
   "execution_count": null,
   "source": [
    "# Example\n",
    "import torch\n",
    "import torch.nn as nn\n",
    "import torch.optim as optim\n",
    "\n",
    "class LinearRegression(nn.Module):\n",
    "    def __init__(self):\n",
    "        super(LinearRegression, self).__init__()\n",
    "        self.linear = nn.Linear(1, 1)  # 输入维度为1，输出维度为1\n",
    "\n",
    "    def forward(self, x):\n",
    "        return self.linear(x)\n",
    "\n",
    "\n",
    "model = LinearRegression()\n",
    "criterion = nn.MSELoss()  # 均方误差损失函数\n",
    "\n",
    "optimizer = optim.SGD(model.parameters(), lr=0.01)\n",
    "\n",
    "x_train = torch.tensor([[1.0], [2.0], [3.0], [4.0]])\n",
    "y_train = torch.tensor([[2.0], [4.0], [6.0], [8.0]])\n",
    "\n",
    "for epoch in range(100):\n",
    "    optimizer.zero_grad()  # 梯度清零\n",
    "    # 前向传播\n",
    "    y_pred = model(x_train)\n",
    "    # 计算损失\n",
    "    loss = criterion(y_pred, y_train)\n",
    "    # 反向传播\n",
    "    loss.backward()\n",
    "    # 参数更新\n",
    "    optimizer.step()"
   ],
   "id": "74c9211bfa0dd6ed"
  }
 ],
 "metadata": {
  "kernelspec": {
   "display_name": "Python 3",
   "language": "python",
   "name": "python3"
  },
  "language_info": {
   "codemirror_mode": {
    "name": "ipython",
    "version": 2
   },
   "file_extension": ".py",
   "mimetype": "text/x-python",
   "name": "python",
   "nbconvert_exporter": "python",
   "pygments_lexer": "ipython2",
   "version": "2.7.6"
  }
 },
 "nbformat": 4,
 "nbformat_minor": 5
}
