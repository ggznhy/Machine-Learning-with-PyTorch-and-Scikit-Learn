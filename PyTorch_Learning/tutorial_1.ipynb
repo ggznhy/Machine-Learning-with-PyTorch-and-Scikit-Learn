{
 "cells": [
  {
   "metadata": {},
   "cell_type": "markdown",
   "source": [
    "# <center style=\"font-family: consolas; font-size: 32px; font-weight: bold;\">张量 Tensor</center>\n",
    "<p><center style=\"color:#949494; font-family: consolas; font-size: 20px;\"></center></p>\n",
    "\n",
    "***\n",
    "\n",
    "# <center style=\"font-family: consolas; font-size: 32px; font-weight: bold;\"></center>"
   ],
   "id": "3509da2ba91f9daf"
  },
  {
   "metadata": {},
   "cell_type": "markdown",
   "source": "<font face='consolas' size=3 color=#f8000b>1. Conception and Expression</font>",
   "id": "c5bc7136366ff810"
  },
  {
   "metadata": {
    "collapsed": true,
    "ExecuteTime": {
     "end_time": "2025-02-12T10:59:53.587645Z",
     "start_time": "2025-02-12T10:59:53.584518Z"
    }
   },
   "cell_type": "code",
   "outputs": [
    {
     "name": "stdout",
     "output_type": "stream",
     "text": [
      "2.4.1\n"
     ]
    }
   ],
   "execution_count": 2,
   "source": [
    "# Tensor\n",
    "import torch\n",
    "\n",
    "print(torch.__version__)"
   ],
   "id": "initial_id"
  },
  {
   "metadata": {
    "ExecuteTime": {
     "end_time": "2025-02-12T11:09:41.779199Z",
     "start_time": "2025-02-12T11:09:41.775199Z"
    }
   },
   "cell_type": "code",
   "source": [
    "tensor = torch.tensor([1, 2, 3])\n",
    "\n",
    "print(tensor.shape)\n",
    "print(tensor)"
   ],
   "id": "a4adbf73119f2f31",
   "outputs": [
    {
     "name": "stdout",
     "output_type": "stream",
     "text": [
      "torch.Size([3])\n",
      "tensor([1, 2, 3])\n"
     ]
    }
   ],
   "execution_count": 8
  },
  {
   "metadata": {
    "ExecuteTime": {
     "end_time": "2025-02-12T11:12:10.447047Z",
     "start_time": "2025-02-12T11:12:10.442546Z"
    }
   },
   "cell_type": "code",
   "source": [
    "zero_tensor = torch.zeros(2, 3)\n",
    "print(zero_tensor)\n",
    "\n",
    "rand_tensor = torch.rand(3, 3)\n",
    "print(rand_tensor)"
   ],
   "id": "19da391ece0b352a",
   "outputs": [
    {
     "name": "stdout",
     "output_type": "stream",
     "text": [
      "tensor([[0., 0., 0.],\n",
      "        [0., 0., 0.]])\n",
      "tensor([[0.6702, 0.8677, 0.6568],\n",
      "        [0.6150, 0.1562, 0.7362],\n",
      "        [0.7129, 0.6304, 0.1730]])\n"
     ]
    }
   ],
   "execution_count": 14
  },
  {
   "metadata": {},
   "cell_type": "code",
   "outputs": [],
   "execution_count": null,
   "source": [
    "tensor1 = torch.tensor([1, 2, 3])\n",
    "tensor2 = torch.tensor([4, 5, 6])\n",
    "\n",
    "# sum\n",
    "result = tensor1 + tensor2\n",
    "print(result)  # output: tensor([5, 7, 9])\n",
    "\n",
    "# multiple\n",
    "result = tensor1 * tensor2\n",
    "print(result)  # output: tensor([4, 10, 18])\n"
   ],
   "id": "abef3e2c429d0b1e"
  }
 ],
 "metadata": {
  "kernelspec": {
   "display_name": "Python 3",
   "language": "python",
   "name": "python3"
  },
  "language_info": {
   "codemirror_mode": {
    "name": "ipython",
    "version": 2
   },
   "file_extension": ".py",
   "mimetype": "text/x-python",
   "name": "python",
   "nbconvert_exporter": "python",
   "pygments_lexer": "ipython2",
   "version": "2.7.6"
  }
 },
 "nbformat": 4,
 "nbformat_minor": 5
}
